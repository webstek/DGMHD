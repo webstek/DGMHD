{
 "cells": [
  {
   "cell_type": "markdown",
   "id": "64c49a92-7a3f-4835-b597-aac7c321a5e4",
   "metadata": {},
   "source": [
    "## Piecewise constant 1D DG, no projection step for Traffic Flow with LLF Flux, time-stepping with AB2+FE\n",
    "\n",
    "##### Considering the traffic flow model:\n",
    "\n",
    "   #### $\\frac{\\partial}{\\partial t} u + \\frac{\\partial}{\\partial x} (u(1-u)) = \\frac{\\partial}{\\partial t} u + \\frac{\\partial f(u)}{\\partial x} = 0 $  &emsp; (1)\n",
    "with fixed boundary conditions.\n",
    "\n",
    "##### The following must be done:\n",
    "- Spatial discretization with piecewise constant DG\n",
    "- Determine LLF Flux for Trafflic flow\n",
    "- AB2+FE Time stepping"
   ]
  },
  {
   "cell_type": "markdown",
   "id": "764a6360-6474-4d0b-95ce-ffe6b45c3c1c",
   "metadata": {
    "tags": []
   },
   "source": [
    "### Spatial Discretization\n",
    "#### Weak Formulation\n",
    "\n",
    "We require the weak formulation of (1), obtained by multiplying by a test function and integrating by parts\n",
    "\n",
    "$$ \\int_\\Omega \\frac{\\partial u}{\\partial t}v\\ dx+\\int_\\Omega v \\frac{\\partial f(u)}{\\partial x}\\ dx = \\int_\\Omega \\frac{\\partial u}{\\partial t}v\\ dx - \\int_\\Omega \\frac{\\partial v}{\\partial x} f(u)\\ dx + \\left. f(u)v \\right|_{\\partial\\Omega} = 0 $$\n",
    "\n",
    "Integrating by parts once more and expanding the boundary terms gives\n",
    "$$\\boxed{ (\\partial_t u, v)_\\Omega + (\\partial_x f(u), v)_\\Omega + v(\\tilde{f}(u_i,u_e)-f(u_i))|_{\\partial\\Omega} = 0 }$$\n",
    "\n",
    "Where $u_i$ is the cell value, $u_e$ is the adjacent cell value, and $\\tilde{f}(u_i,u_e)$ is the incoming flux determined numerically. The inner products denote integrals of the product of the functions."
   ]
  },
  {
   "cell_type": "markdown",
   "id": "737145e7-ec77-4b86-971b-654984cab71a",
   "metadata": {},
   "source": [
    "#### Piecewise Constant DG\n",
    "First discretizing in the spatial variable $x$, letting $\\Omega_j = (x_{j-1/2}, x_{j+1/2})$, and $\\Omega = \\cup_j\\Omega_j$ be a partition of the real line. Call $\\Delta x_j = x_{j+1/2}-x_{j-1/2}$, and $h = \\sup_j\\Delta x_j$.\n",
    "\n",
    "The finite dimensional space $V^h$ that the approximate solution $u^h(t)$ belongs to for $t\\in[0,T]$ is chosen to be \n",
    "$$ V^h = \\left\\{ v : v|_{\\Omega_j}\\in P_0(\\Omega_j) \\right\\} $$\n",
    "where $P_0$ is the space of order zero polynomials, i.e. constant. We define $v$ outside of $\\Omega_j$ to be zero.\n",
    "\n",
    "Then, the discontinuous Galerkin formulation provides each cell $\\Omega_j$ with a corresponding weak form (using inner product notation)\n",
    "$$ (\\partial_t u,v)_{\\Omega_j} + (\\partial_xf(u), v)_{\\Omega_j} + v(\\tilde{f}(u_i,u_e)-f(u_i))|_{\\partial\\Omega_j} = 0 $$\n",
    "\n",
    "Noting that the basis of $V^h$ is simply $1$, the approximate solution in a given cell is $u^h = u^h_j\\in\\mathbb{R}$, and $f(u^h) = f^h_j\\in\\mathbb{R}$, the second term disappears and we have\n",
    "\n",
    "$$\\boxed{ \\partial_t u^h_j = \\frac{1}{\\Delta x_j}\\left[\\tilde{f}(u^h_{j-1},u^h_{j}) - \\tilde{f}(u^h_j,u^h_{j+1}) \\right] }$$"
   ]
  },
  {
   "cell_type": "markdown",
   "id": "33ffc769-88a8-46c7-985a-7b51f427f9be",
   "metadata": {},
   "source": [
    "### Choosing the Numerical Flux $\\tilde{f}$\n",
    "Using a standard Roe-splitting for the flux, we have\n",
    "$$ \\tilde{f}(u_i,u_e) = \\frac{1}{2}\\left( (f(u_e)+f(u_i)) - R|\\Lambda|L(u_e-u_i) \\right) $$\n",
    "where the Jacobian of $f$ is written in terms of its left and right eigenvectors, $\\mathbb{J}(f) = R\\Lambda L$.\n",
    "\n",
    "For Traffic flow, with $f(u) = u(1-u) = u-u^2$, we have $\\mathbb{J} = 1-2u$, meaning the eigenvalue is indeed $1-2u$, and the left and right eigenvectors are $1$. Hence, we take the flux\n",
    "$$\\boxed{ \\tilde{f}(u_i,u_e) = \\frac{1}{2}\\left( f(u_e)+f(u_i) - \\alpha(u_e-u_i) \\right) }$$\n",
    "where $\\alpha(u_i,u_e) = \\max (|1-2u_i|, |1-2u_e|)$"
   ]
  },
  {
   "cell_type": "markdown",
   "id": "0781e8c8-e243-4a84-9185-8c9c083baa49",
   "metadata": {},
   "source": [
    "### AB2+FE Time Stepping\n",
    "To timestep an equation of the form $\\partial_t u = L(u)$, the Second-order Adams Bashforth Method is used, that is\n",
    "$$ \\boxed{u^{n+1} = u^n + \\frac{\\Delta t}{2}\\left( 3L(u^n) - L(u^{n-1}) \\right) }$$\n",
    "Which is a 2-step method, and hence requires a single second order step, which can be done with a single Forward Euler step\n",
    "$$ u^1 = u^0 + \\Delta tL(u^0) $$"
   ]
  },
  {
   "cell_type": "markdown",
   "id": "8980ff91-af0b-4caa-b93e-4210dcfdb8a5",
   "metadata": {},
   "source": [
    "### Implementation\n",
    "Consider a uniform grid with points at $x_j = j\\Delta x$, with $j=-1,...,N+1$, and $\\Delta x = 1/N$, with $N$ the number of cells centered at each $x_j$. The cells centered at $-\\Delta x, 1+\\Delta x$ are ghost-cells, meaning $u(-\\Delta x) = u_{-1} = u(1) = u_N$ and $u(1+\\Delta x) = u_{N+1} = u(0) = u_0$. This gives $N+1$ interior cells, and $N+3$ total cells.\n",
    "\n",
    "Note that since python indexing starts from 0, and not -1, the subscript should run from 0 to N+2."
   ]
  },
  {
   "cell_type": "code",
   "execution_count": 52,
   "id": "4933a885-4e6c-49fd-9966-1e05fe92a48a",
   "metadata": {},
   "outputs": [
    {
     "data": {
      "image/png": "[encoded data removed]",
      "text/plain": [
       "<Figure size 432x288 with 1 Axes>"
      ]
     },
     "metadata": {
      "needs_background": "light"
     },
     "output_type": "display_data"
    }
   ],
   "source": [
    "# Imports\n",
    "from IPython.display import clear_output\n",
    "import numpy as np\n",
    "import matplotlib.pyplot as plt\n",
    "from domain import Mesh, Cell1d\n",
    "\n",
    "#### Parameters, Trafflic Flow Flux, and Initial Condition\n",
    "L = 1\n",
    "h = 0.02  # The cell size\n",
    "dt = h/2 # Time-step size\n",
    "T = 1 # Final time starting from 0\n",
    "\n",
    "def f(u): # Traffic flow flux function\n",
    "    return u*(1-u)\n",
    "\n",
    "def J(u): # Traffic flow flux Jacobian\n",
    "    return 1-2*u\n",
    "\n",
    "def IC(x): # Initial Condition\n",
    "    if x < 0.5:\n",
    "        return 0.9\n",
    "    return 0.3\n",
    "\n",
    "### Spatial Discretization\n",
    "N = int(2*L/h)\n",
    "x = np.linspace(-L-h,L+h,N+3)\n",
    "msh = Mesh(1, [Cell1d(xi, h, f) for xi in x])\n",
    "msh.impose_IC(IC)\n",
    "msh.impose_periodic_BC()\n",
    "\n",
    "# Plot Initial Condition\n",
    "fig, ax = plt.subplots()\n",
    "\n",
    "line, = ax.plot(msh.x, msh.u,'--k')\n",
    "ax.set_xlim([-L,L])\n",
    "ax.set_ylim([-0.1,1.2])\n",
    "plt.show()"
   ]
  },
  {
   "cell_type": "code",
   "execution_count": 53,
   "id": "c539ee81-0cd6-48a9-a28a-f178add88cb9",
   "metadata": {},
   "outputs": [
    {
     "data": {
      "image/png": "[encoded data removed]",
      "text/plain": [
       "<Figure size 432x288 with 1 Axes>"
      ]
     },
     "metadata": {
      "needs_background": "light"
     },
     "output_type": "display_data"
    }
   ],
   "source": [
    "### Time stepping\n",
    "def ab2(u,Ln1,Ln0): # 2nd Order Adams-Bashforth\n",
    "    return u + 0.5*dt*(3*Ln1-Ln0)\n",
    "\n",
    "def fe(u,Ln0): # Forward Euler\n",
    "    return u + dt*Ln0\n",
    "\n",
    "# Initial Time step so that AB2 can be used\n",
    "for j in range(1,N+2):\n",
    "    cell = msh.cells[j]\n",
    "    cellL = msh.cells[j-1]\n",
    "    cellR = msh.cells[j+1]\n",
    "    cell.L0 = (cellL.numflux(cell, J) - cell.numflux(cellR, J))/h\n",
    "    cell.u = fe(cell.u,cell.L0)\n",
    "msh.impose_periodic_BC()\n",
    "msh.retrieve_u()\n",
    "\n",
    "\n",
    "t = dt\n",
    "while t < T:\n",
    "    clear_output(wait=True)\n",
    "    t += dt\n",
    "    for j in range(1,N+2):\n",
    "        cell = msh.cells[j]\n",
    "        cellL = msh.cells[j-1]\n",
    "        cellR = msh.cells[j+1]\n",
    "        cell.L1 = (cellL.numflux(cell, J) - cell.numflux(cellR, J))/h\n",
    "        u1 = ab2(cell.u,cell.L1,cell.L0)\n",
    "        cell.L0 = cell.L1\n",
    "        cell.u = u1\n",
    "    msh.impose_periodic_BC()\n",
    "    msh.retrieve_u()\n",
    "    \n",
    "plt.plot(msh.x, msh.u,'-r')\n",
    "plt.xlim([-L,L])\n",
    "plt.ylim([0,1.2])\n",
    "plt.show()"
   ]
  }
 ],
 "metadata": {
  "kernelspec": {
   "display_name": "Python 3 (ipykernel)",
   "language": "python",
   "name": "python3"
  },
  "language_info": {
   "codemirror_mode": {
    "name": "ipython",
    "version": 3
   },
   "file_extension": ".py",
   "mimetype": "text/x-python",
   "name": "python",
   "nbconvert_exporter": "python",
   "pygments_lexer": "ipython3",
   "version": "3.10.2"
  }
 },
 "nbformat": 4,
 "nbformat_minor": 5
}
