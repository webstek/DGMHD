{
 "cells": [
  {
   "cell_type": "markdown",
   "id": "f935293e-65a0-43ea-80ec-6380883697b7",
   "metadata": {},
   "source": [
    "## Piecewise constant 1D DG, no projection step for Shallow Water Equations with LLF Flux, time-stepping with AB2+FE\n",
    "\n",
    "The Shallow water equations are\n",
    "\n",
    "#### \\begin{align*} h_t + (hu)_x &= 0\\\\ (hu)_t + (hu^2+\\frac{1}{2}gh^2)_x &= 0 \\end{align*}\n",
    "Where $h$ is the depth, $u$ is velocity, and $g$ is a constant for the force of gravity.\n",
    "\n",
    "We may write the shallow water equations in the canonical form $q_t + f(q)_x = 0$ if we define\n",
    "#### $$ q = \\begin{bmatrix} h\\\\ hu \\end{bmatrix},\\quad f = \\begin{bmatrix} hu \\\\ hu^2 + \\frac{1}{2}gh^2 \\end{bmatrix} $$\n",
    "\n",
    "Then, in terms of the conserved quantities, the flux is\n",
    "#### $$ f(q) = \\begin{bmatrix} q_2 \\\\ \\frac{q_2^2}{q_1}+\\frac{1}{2}gq_1^2 \\end{bmatrix} $$"
   ]
  },
  {
   "cell_type": "markdown",
   "id": "e3255e1d-c920-4f3e-a57f-7278995f9b9a",
   "metadata": {},
   "source": [
    "So the flux Jacobian is\n",
    "#### $$ \\mathbb{J}(f) = \\begin{bmatrix} 0 & 1 \\\\ -\\left(\\frac{q_2}{q_1}\\right)^2+gq_1 & 2\\frac{q_2}{q_1} \\end{bmatrix} = \\begin{bmatrix} 0 & 1 \\\\ -u^2+gh & 2u \\end{bmatrix} $$"
   ]
  },
  {
   "cell_type": "markdown",
   "id": "fc8d7fa9-029c-47ae-ad47-da22aebebb9d",
   "metadata": {},
   "source": [
    "Which has eigenvalues $\\lambda_\\pm = u \\pm \\sqrt{gh}$ and associated eigenvectors $r_\\pm = \\begin{bmatrix} 1\\\\ u\\pm\\sqrt{gh}\n",
    "\\end{bmatrix}$."
   ]
  },
  {
   "cell_type": "markdown",
   "id": "261fb124-b848-47ec-a0a2-480abd11e1f4",
   "metadata": {},
   "source": [
    "### Spatial Discretization\n",
    "We use the vectorization from the scalar 1st order DG method. That is, given a partition of the real line, with cells centered at $x_j$, the evolution of one cell is now given by\n",
    "$$\\boxed{ \\frac{d}{dt}\\mathbf{q}_j = \\tilde{\\mathbf{f}}(\\mathbf{q}_{j-1},\\mathbf{q}_j) - \\tilde{\\mathbf{f}}(\\mathbf{q}_j,\\mathbf{q}_{j+1}) }$$\n",
    "\n",
    "Recall that the numerical flux was chosen to be the Local Lax-Friedrichs flux\n",
    "$$ \\tilde{f}(u_i,u_e) = \\frac{1}{2}\\left( f(u_e)+f(u_i) - \\alpha(u_e-u_i) \\right) $$"
   ]
  },
  {
   "cell_type": "markdown",
   "id": "82a2f6ca-f8f6-4bdd-af66-c85a932af9ce",
   "metadata": {},
   "source": [
    "However, as the Jacobian was $1\\times 1$, the eigenvector was really an eigenscalar and was 1, simplifying the Roe-splitting flux. In the System of equations case, we have\n",
    "\n",
    "$$\\boxed{ \\tilde{\\mathbf{f}}(\\mathbf{q}^-,\\mathbf{q}^+) = \\frac{1}{2}\\left(\\mathbf{f}(\\mathbf{q}^-)+\\mathbf{f}(\\mathbf{q}^+) - R|\\Lambda|L(\\mathbf{q}^--\\mathbf{q}^+)\\right)}$$\n",
    "\n",
    "For simplicity of implementation, the eigenvalues of the Jacobian are evaluated at the average of $\\mathbf{q}^-$ and $\\mathbf{q}^+$."
   ]
  },
  {
   "cell_type": "markdown",
   "id": "82a879ab-b67f-45c7-bf0a-ce21ebebb99c",
   "metadata": {},
   "source": [
    "Hence the matrices in the primitive variables are $$R_p = \\begin{bmatrix} 1 & 1 \\\\ u+\\sqrt{gh} & u-\\sqrt{gh} \\end{bmatrix},\\ |\\Lambda|_p = \\begin{bmatrix} |u+\\sqrt{gh}| & 0 \\\\ 0 & |u-\\sqrt{gh}| \\end{bmatrix},\\ L_p = \\frac{1}{-2\\sqrt{gh}}\\begin{bmatrix} u-\\sqrt{gh} & -1 \\\\ -u-\\sqrt{gh} & 1 \\end{bmatrix} $$"
   ]
  },
  {
   "cell_type": "markdown",
   "id": "88e3d772-3c41-430a-b5e2-905ae0c01e0b",
   "metadata": {},
   "source": [
    "Then, the matrices in the corresponding conserved variables:\n",
    "$$ R = \\begin{bmatrix} 1 & 1 \\\\ q_2/q_1+\\sqrt{gq_1} & q_2/q_1 - \\sqrt{gq_1} \\end{bmatrix}$$ $$|\\Lambda| = \\begin{bmatrix} |q_2/q_1+\\sqrt{gq_1}| & 0 \\\\ 0 & |q_2/q_1 - \\sqrt{gq_1}| \\end{bmatrix}$$  $$L = \\frac{-1}{2\\sqrt{gq_1}} \\begin{bmatrix} q_2/q_1-\\sqrt{gq_1} & -1 \\\\ -q_2/q_1 - \\sqrt{gq_1} & 1 \\end{bmatrix} $$"
   ]
  },
  {
   "cell_type": "markdown",
   "id": "6c5af89c-dd83-44bb-9f7a-795a79ec94ff",
   "metadata": {},
   "source": [
    "### Temporal Discretization\n",
    "Let us initially use the same temporal discretization as in the scalar conservation case.\n",
    "\n",
    "To timestep an equation of the form $\\partial_t u = F(u)$, the Second-order Adams Bashforth Method is used, that is\n",
    "$$ \\boxed{u^{n+1} = u^n + \\frac{\\Delta t}{2}\\left( 3F(u^n) - F(u^{n-1}) \\right) }$$\n",
    "Which is a 2-step method, and hence requires a single second order step, which can be done with a single Forward Euler step\n",
    "$$ u^1 = u^0 + \\Delta tF(u^0) $$"
   ]
  },
  {
   "cell_type": "markdown",
   "id": "7a2c08fc-3aae-4a2c-8baa-a72c4c62f695",
   "metadata": {},
   "source": [
    "### Implementation\n",
    "Again, consider a uniform grid partitioning the interveral $[-l,l]$ of the real line with $N+3$ cells; the cells are centered at each $x_j$."
   ]
  },
  {
   "cell_type": "code",
   "execution_count": 37,
   "id": "7e6d3d0e-5c37-4dd8-9b2d-641ab36be635",
   "metadata": {},
   "outputs": [
    {
     "data": {
      "image/png": "[encoded data removed]",
      "text/plain": [
       "<Figure size 432x288 with 1 Axes>"
      ]
     },
     "metadata": {
      "needs_background": "light"
     },
     "output_type": "display_data"
    }
   ],
   "source": [
    "### Imports\n",
    "import matplotlib.pyplot as plt\n",
    "from IPython.display import clear_output # to 'animate' output of time-stepping loop\n",
    "import numpy as np\n",
    "from domain import Mesh, Cell1d # custom classes for DG implementation\n",
    "\n",
    "### Parameters\n",
    "g = 10 # Set g equal to one for convenience\n",
    "l = 1\n",
    "h = 0.02\n",
    "dt = h/2\n",
    "T = 4\n",
    "\n",
    "# IC parameters\n",
    "hl = 3.0\n",
    "hr = 3.0\n",
    "ul = -1.0\n",
    "ur = 1.0\n",
    "\n",
    "def IC(x):\n",
    "    if x > 0:\n",
    "        return np.array([hr, hr*ur])\n",
    "    return np.array([hl, hl*ul])\n",
    "\n",
    "\n",
    "### Spatial discretization\n",
    "N = int(2*l/h)\n",
    "x = np.linspace(-l-h,l+h,N+3)\n",
    "msh = Mesh(1, [Cell1d(xi, h) for xi in x])\n",
    "msh.impose_IC(IC)\n",
    "\n",
    "# plot Initial Conditions\n",
    "fig = plt.figure()\n",
    "ax1 = fig.add_subplot(111)\n",
    "ax1.plot(msh.x,[u[0] for u in msh.u])\n",
    "ax1.plot(msh.x,[u[1] for u in msh.u])\n",
    "\n",
    "\n",
    "### Flux Definition\n",
    "def f(q): # Shallow Water Equations flux in conserved variables\n",
    "    return np.array([q[1], q[1]**2/q[0]+0.5*g*q[0]**2])\n",
    "\n",
    "def numf(cellm, cellp):\n",
    "    q = (cellm.u + cellp.u)/2\n",
    "    R = np.array([ [ 1, 1], [ q[1]/q[0]+np.sqrt(g*q[0]), q[1]/q[0]-np.sqrt(g*q[0])] ])\n",
    "    Lm = np.array([ [abs(q[1]/q[0]+np.sqrt(g*q[0])), 0], [0 , abs(q[1]/q[0]-np.sqrt(g*q[0]))] ])\n",
    "    L = (-1/(2*np.sqrt(g*q[0]))) * np.array( \n",
    "        [ [ q[1]/q[0]-np.sqrt(g*q[0]), -1], [ -q[1]/q[0]-np.sqrt(g*q[0]), 1] ])\n",
    "    \n",
    "    return 0.5*( f(cellm.u) + f(cellp.u) - \n",
    "                np.matmul(R*Lm*L, cellp.u-cellm.u) )\n",
    "\n",
    "msh.set_flux(f)\n",
    "msh.set_numflux(numf)\n",
    "\n",
    "# Semi-discrete from\n",
    "def F(cellm,cell,cellp):\n",
    "    du_dt = numf(cellm,cell) - numf(cell,cellp)\n",
    "    return du_dt"
   ]
  },
  {
   "cell_type": "code",
   "execution_count": 38,
   "id": "77a3580f-3e64-48a8-97d8-eb217b5aaf73",
   "metadata": {},
   "outputs": [
    {
     "data": {
      "image/png": "[encoded data removed]",
      "text/plain": [
       "<Figure size 432x288 with 1 Axes>"
      ]
     },
     "metadata": {
      "needs_background": "light"
     },
     "output_type": "display_data"
    }
   ],
   "source": [
    "### Time stepping\n",
    "def ab2(u,Fn1,Fn0): # 2nd Order Adams-Bashforth\n",
    "    return u + 0.5*dt*(3*Fn1-Fn0)\n",
    "\n",
    "def fe(u,Fn0): # Forward Euler\n",
    "    return u + dt*Fn0\n",
    "\n",
    "# Initial Time step so that AB2 can be used\n",
    "for j in range(1,N+2):\n",
    "    cell = msh.cells[j]\n",
    "    cell.F0 = F(msh.cells[j-1],cell,msh.cells[j+1])\n",
    "    cell.u = fe(cell.u,cell.F0)\n",
    "msh.retrieve_u()\n",
    "\n",
    "\n",
    "# Time stepping with AB2\n",
    "t = dt\n",
    "while t < T:\n",
    "    clear_output(wait=True)\n",
    "    t += dt\n",
    "    for j in range(1,N+2):\n",
    "        cell = msh.cells[j]\n",
    "        cell.F1 = F(msh.cells[j-1],msh.cells[j],msh.cells[j+1])\n",
    "        u1 = ab2(cell.u, cell.F1, cell.F0)\n",
    "        cell.F0 = cell.F1\n",
    "        cell.u = u1\n",
    "    msh.retrieve_u()\n",
    "    \n",
    "    plt.plot(msh.x,[u[0] for u in msh.u])\n",
    "    plt.plot(msh.x,[u[1]/u[0] for u in msh.u])\n",
    "    plt.show()\n",
    " \n"
   ]
  }
 ],
 "metadata": {
  "kernelspec": {
   "display_name": "Python 3 (ipykernel)",
   "language": "python",
   "name": "python3"
  },
  "language_info": {
   "codemirror_mode": {
    "name": "ipython",
    "version": 3
   },
   "file_extension": ".py",
   "mimetype": "text/x-python",
   "name": "python",
   "nbconvert_exporter": "python",
   "pygments_lexer": "ipython3",
   "version": "3.10.2"
  }
 },
 "nbformat": 4,
 "nbformat_minor": 5
}
